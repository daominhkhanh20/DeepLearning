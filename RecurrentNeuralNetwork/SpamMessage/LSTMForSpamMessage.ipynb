{
  "nbformat": 4,
  "nbformat_minor": 0,
  "metadata": {
    "accelerator": "GPU",
    "colab": {
      "name": "LSTMForSpamMessage.ipynb",
      "provenance": [],
      "collapsed_sections": [],
      "toc_visible": true
    },
    "kernelspec": {
      "display_name": "Python 3",
      "language": "python",
      "name": "python3"
    },
    "language_info": {
      "codemirror_mode": {
        "name": "ipython",
        "version": 3
      },
      "file_extension": ".py",
      "mimetype": "text/x-python",
      "name": "python",
      "nbconvert_exporter": "python",
      "pygments_lexer": "ipython3",
      "version": "3.7.9"
    }
  },
  "cells": [
    {
      "cell_type": "markdown",
      "metadata": {
        "id": "kMxrqgChiQMk"
      },
      "source": [
        "# Information for data\n",
        "- The SMS Spam collection is a set of SMS tagged messages that have been collected for the SMS Spam Reseach. It contained one set of SMS messages in English of 5574 messages, tagged acording beign ham(legitimate) or spam\n",
        "- The file contain one message per line. Each line is composed by 2 columns: v1 contains the label(ham or spam) and v2 contains the raw text\n"
      ]
    },
    {
      "cell_type": "markdown",
      "metadata": {
        "id": "akrQaa3ljRRZ"
      },
      "source": [
        "# Task: Build a prediction model that will accurately classify whichs texts are spam."
      ]
    },
    {
      "cell_type": "code",
      "metadata": {
        "id": "JBYQFND0hMDR"
      },
      "source": [
        "import pandas as pd\n",
        "import numpy as np\n",
        "from matplotlib import pyplot as plt\n",
        "import seaborn as sns\n",
        "from sklearn.model_selection import train_test_split\n",
        "from sklearn.preprocessing import LabelEncoder\n",
        "from tensorflow.keras.models import Model\n",
        "from tensorflow.keras.layers import LSTM,Activation,Dense,Dropout,Input,Embedding\n",
        "from keras.preprocessing.text import Tokenizer\n",
        "from tensorflow.keras.optimizers import RMSprop\n",
        "from keras.preprocessing import sequence\n",
        "from keras.utils import to_categorical \n",
        "from tensorflow.keras.callbacks import EarlyStopping \n",
        "#%matplotlib inline"
      ],
      "execution_count": 92,
      "outputs": []
    },
    {
      "cell_type": "markdown",
      "metadata": {
        "id": "fi1SHpq-0JCb"
      },
      "source": [
        "# 1 Prepair data from LSTM"
      ]
    },
    {
      "cell_type": "code",
      "metadata": {
        "colab": {
          "base_uri": "https://localhost:8080/",
          "height": 204
        },
        "id": "iILFini-0MeR",
        "outputId": "53683e32-f6e9-4ecf-d1d3-d900acdd7c5a"
      },
      "source": [
        "data=pd.read_csv('spam.csv',delimiter=',',encoding='latin-1')\n",
        "data.head()"
      ],
      "execution_count": 93,
      "outputs": [
        {
          "output_type": "execute_result",
          "data": {
            "text/html": [
              "<div>\n",
              "<style scoped>\n",
              "    .dataframe tbody tr th:only-of-type {\n",
              "        vertical-align: middle;\n",
              "    }\n",
              "\n",
              "    .dataframe tbody tr th {\n",
              "        vertical-align: top;\n",
              "    }\n",
              "\n",
              "    .dataframe thead th {\n",
              "        text-align: right;\n",
              "    }\n",
              "</style>\n",
              "<table border=\"1\" class=\"dataframe\">\n",
              "  <thead>\n",
              "    <tr style=\"text-align: right;\">\n",
              "      <th></th>\n",
              "      <th>v1</th>\n",
              "      <th>v2</th>\n",
              "      <th>Unnamed: 2</th>\n",
              "      <th>Unnamed: 3</th>\n",
              "      <th>Unnamed: 4</th>\n",
              "    </tr>\n",
              "  </thead>\n",
              "  <tbody>\n",
              "    <tr>\n",
              "      <th>0</th>\n",
              "      <td>ham</td>\n",
              "      <td>Go until jurong point, crazy.. Available only ...</td>\n",
              "      <td>NaN</td>\n",
              "      <td>NaN</td>\n",
              "      <td>NaN</td>\n",
              "    </tr>\n",
              "    <tr>\n",
              "      <th>1</th>\n",
              "      <td>ham</td>\n",
              "      <td>Ok lar... Joking wif u oni...</td>\n",
              "      <td>NaN</td>\n",
              "      <td>NaN</td>\n",
              "      <td>NaN</td>\n",
              "    </tr>\n",
              "    <tr>\n",
              "      <th>2</th>\n",
              "      <td>spam</td>\n",
              "      <td>Free entry in 2 a wkly comp to win FA Cup fina...</td>\n",
              "      <td>NaN</td>\n",
              "      <td>NaN</td>\n",
              "      <td>NaN</td>\n",
              "    </tr>\n",
              "    <tr>\n",
              "      <th>3</th>\n",
              "      <td>ham</td>\n",
              "      <td>U dun say so early hor... U c already then say...</td>\n",
              "      <td>NaN</td>\n",
              "      <td>NaN</td>\n",
              "      <td>NaN</td>\n",
              "    </tr>\n",
              "    <tr>\n",
              "      <th>4</th>\n",
              "      <td>ham</td>\n",
              "      <td>Nah I don't think he goes to usf, he lives aro...</td>\n",
              "      <td>NaN</td>\n",
              "      <td>NaN</td>\n",
              "      <td>NaN</td>\n",
              "    </tr>\n",
              "  </tbody>\n",
              "</table>\n",
              "</div>"
            ],
            "text/plain": [
              "     v1  ... Unnamed: 4\n",
              "0   ham  ...        NaN\n",
              "1   ham  ...        NaN\n",
              "2  spam  ...        NaN\n",
              "3   ham  ...        NaN\n",
              "4   ham  ...        NaN\n",
              "\n",
              "[5 rows x 5 columns]"
            ]
          },
          "metadata": {
            "tags": []
          },
          "execution_count": 93
        }
      ]
    },
    {
      "cell_type": "code",
      "metadata": {
        "colab": {
          "base_uri": "https://localhost:8080/"
        },
        "id": "ZFyGpvSw0e40",
        "outputId": "bf3ce45f-e290-4976-b5f8-d0114125ed9e"
      },
      "source": [
        "data.drop(['Unnamed: 2', 'Unnamed: 3', 'Unnamed: 4'],axis=1,inplace=True);\n",
        "data.info()"
      ],
      "execution_count": 94,
      "outputs": [
        {
          "output_type": "stream",
          "text": [
            "<class 'pandas.core.frame.DataFrame'>\n",
            "RangeIndex: 5572 entries, 0 to 5571\n",
            "Data columns (total 2 columns):\n",
            " #   Column  Non-Null Count  Dtype \n",
            "---  ------  --------------  ----- \n",
            " 0   v1      5572 non-null   object\n",
            " 1   v2      5572 non-null   object\n",
            "dtypes: object(2)\n",
            "memory usage: 87.2+ KB\n"
          ],
          "name": "stdout"
        }
      ]
    },
    {
      "cell_type": "code",
      "metadata": {
        "colab": {
          "base_uri": "https://localhost:8080/",
          "height": 366
        },
        "id": "ZiecB_gb1abN",
        "outputId": "32a563cd-629a-47cc-cccf-60f4c73c6db2"
      },
      "source": [
        "sns.countplot(data.v1)\n",
        "plt.xlabel('Label')\n",
        "plt.title('Number ham and spam messages')"
      ],
      "execution_count": 95,
      "outputs": [
        {
          "output_type": "stream",
          "text": [
            "/usr/local/lib/python3.6/dist-packages/seaborn/_decorators.py:43: FutureWarning: Pass the following variable as a keyword arg: x. From version 0.12, the only valid positional argument will be `data`, and passing other arguments without an explicit keyword will result in an error or misinterpretation.\n",
            "  FutureWarning\n"
          ],
          "name": "stderr"
        },
        {
          "output_type": "execute_result",
          "data": {
            "text/plain": [
              "Text(0.5, 1.0, 'Number ham and spam messages')"
            ]
          },
          "metadata": {
            "tags": []
          },
          "execution_count": 95
        },
        {
          "output_type": "display_data",
          "data": {
            "image/png": "[encoded data removed]",
            "text/plain": [
              "<Figure size 432x288 with 1 Axes>"
            ]
          },
          "metadata": {
            "tags": [],
            "needs_background": "light"
          }
        }
      ]
    },
    {
      "cell_type": "code",
      "metadata": {
        "colab": {
          "base_uri": "https://localhost:8080/"
        },
        "id": "gwXCJEjI2GU9",
        "outputId": "036a8c52-f072-4877-a02e-9ed47831a136"
      },
      "source": [
        "x=data.v2\n",
        "y=data.v1\n",
        "label_encoder=LabelEncoder()\n",
        "y=label_encoder.fit_transform(y)\n",
        "print(y.shape)\n",
        "y=y.reshape(-1,1)\n",
        "print(y.shape)"
      ],
      "execution_count": 96,
      "outputs": [
        {
          "output_type": "stream",
          "text": [
            "(5572,)\n",
            "(5572, 1)\n"
          ],
          "name": "stdout"
        }
      ]
    },
    {
      "cell_type": "markdown",
      "metadata": {
        "id": "6mg2_hDPkd5L"
      },
      "source": [
        "# Tokenization \n",
        "- **Tokenization** is one first step in NLP, and it's the task of splitting a sequence of text into units with semantic meaning. These units are called tokens, and the difficultly in tokenization lies on hwo to get the idel split so that all the tokens in the text have the correct meaning, there are no left out tokens\n",
        "  - **Example** :\n",
        "    - **Raw text**: I ate a burger, and it was good.\n",
        "    - **Tokenized text**: [’I’, ’ate’, ’a’, ’burger’, ‘,’, ‘and’, ’it’, ’was’, ’good’, ‘.’]\n",
        "\n",
        "- **A few common way of tokenizing:**\n",
        "  - **Word level tokenization**:\n",
        "     - It consists only of splitting a sentence by the whitespace and puntuation marks.Splitting on whitespace can also split an element which should be regarded as a single token, for example New York. This is problematic and mostly the case with names, borrowed foregin phrases, and compounds thath are sometimes written as mutiple words \n",
        "     - Another drawback of word level tokenization is the huge vocabulary size is creates. Each token is saved into to a token vocabulary, and if the vocabulary is build with all the unique words found in all the input text, it creates a huge vocabulary, which procedure memory and performance problems later on. To solve the problem of the bif vocabulary size, we can think of creating tokens with **characters instead of works**, which is called level tokenization\n",
        "\n",
        "  - **Character level tokenization:**\n",
        "    - The vocabulary size is dramatically reduced to the number of characters in the language, 26 for English plus the special characters. Misspellings or rare words are handled better because they are broken down into characters and these characters are already known in the vocabulary.\n",
        "    - Reduncing the vocabulary size has a tradeoff with the sequence length. Now each word being splitted into its characters, the tokenized sequence is much longer than the initial text. The word 'smarter' is transformed into 7 different tokens. Additinally, the main goal of tokenization isn't achieved, because characters, at least in English, have no semantic meaning. Only when joining characters together to they acquire a meaning. **As an in-betweener between word and character tokenization, subword tokenization procedure subword units,smaller than words but bigger than just character**\n",
        "\n",
        "  - **Subword level tokenization:**\n",
        "     ![1.png](data:image/png;base64,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)\n",
        "     - Subword level tokenization doesn't transform most common words, and decompose rare words in meaning ful subword units. If 'unfriendly' was labeled as a rare word, it would e decompose into 'un-friend-ly' which are all meaningful unit, ‘un’ meaning opposite, ‘friend’ is a noun, and ‘ly’ turns it into an adverb. The challenge here is how to make that segmentation, how do we get ‘un-friend-ly’ and not ‘unfr-ien-dly’.\n",
        "  - **BPE**\n",
        "  - **Unigram LM**\n",
        "  - **Word piece**\n"
      ]
    },
    {
      "cell_type": "code",
      "metadata": {
        "id": "JK5icgSm2rOO"
      },
      "source": [
        "x_train,x_test,y_train,y_test=train_test_split(x,y,test_size=0.15)"
      ],
      "execution_count": 97,
      "outputs": []
    },
    {
      "cell_type": "code",
      "metadata": {
        "colab": {
          "base_uri": "https://localhost:8080/"
        },
        "id": "We6yQ6qiYJbU",
        "outputId": "eda1ee3b-72fc-4542-ae9f-6b3aba16979e"
      },
      "source": [
        "print(x_train)"
      ],
      "execution_count": 98,
      "outputs": [
        {
          "output_type": "stream",
          "text": [
            "2825                                            Ok lor...\n",
            "3783              Dear got train and seat mine lower seat\n",
            "810                            S:)s.nervous  &lt;#&gt; :)\n",
            "1434      I asked sen to come chennai and search for job.\n",
            "4761                      Me too! Have a lovely night xxx\n",
            "                              ...                        \n",
            "154     You are everywhere dirt, on the floor, the win...\n",
            "1210            Guessin you ain't gonna be here before 9?\n",
            "263     Hey I am really horny want to chat or see me n...\n",
            "355     Thank You for calling.Forgot to say Happy Onam...\n",
            "254                I'm back, lemme know when you're ready\n",
            "Name: v2, Length: 4736, dtype: object\n"
          ],
          "name": "stdout"
        }
      ]
    },
    {
      "cell_type": "markdown",
      "metadata": {
        "id": "YhA871OK3NoT"
      },
      "source": [
        "# Precess the data\n",
        "- Tokenize the data and convert the text to sequences(convert text into the list of words)\n",
        "- Add padding to ensure that all the sequences have the same shape\n",
        "- There are many way of taking the max_len and here an arbitrary length of 150 is chosen \n",
        "- **pad_senquences**: is used to ensure that all sequences in a list have the same length. By default this is done by padding 0 in the beginning of each sequence until each sequence has the same length as the longest sequence."
      ]
    },
    {
      "cell_type": "code",
      "metadata": {
        "id": "RB8n-1edeG8o"
      },
      "source": [
        "data=\"\"\n",
        "for string in x_train:\n",
        "  data+=str(string)+\" \""
      ],
      "execution_count": 102,
      "outputs": []
    },
    {
      "cell_type": "code",
      "metadata": {
        "colab": {
          "base_uri": "https://localhost:8080/"
        },
        "id": "icbPkK4aeQHY",
        "outputId": "0ea6be19-bb2c-41da-e7c1-39deb71f9de9"
      },
      "source": [
        "import string\n",
        "data=data.translate(str.maketrans('','',string.punctuation))\n",
        "word_dic=dict.fromkeys(set(data.split(' ')),0)\n",
        "for word in data.split(' '):\n",
        "  word_dic[word]+=1\n",
        "sorted(word_dic.items(),key= lambda x:x[1],reverse=True)\n",
        "freqs=word_dic.values()\n",
        "c=np.array(list(freqs))\n",
        "print(c)\n",
        "count=50\n",
        "print(\"Number words have number appear > {} :\".format(count),len(np.where(c>count)[0]))\n",
        "\n"
      ],
      "execution_count": 103,
      "outputs": [
        {
          "output_type": "stream",
          "text": [
            "[1564    2    1 ...    1    1    1]\n",
            "Number words have number appear > 50 : 213\n"
          ],
          "name": "stdout"
        }
      ]
    },
    {
      "cell_type": "code",
      "metadata": {
        "id": "T6mywaCj2126",
        "colab": {
          "base_uri": "https://localhost:8080/"
        },
        "outputId": "2f27af7e-f447-49b8-9c9c-a8ca7fd98e2d"
      },
      "source": [
        "max_words=200# we choose 200 words which have number appear in dict > 50\n",
        "max_len=150\n",
        "tokenize=Tokenizer(num_words=max_words)\n",
        "tokenize.fit_on_texts(x_train) #create internal dictionary\n",
        "print(x_train.shape)\n",
        "sequences=tokenize.texts_to_sequences(x_train)\n",
        "print(len(sequences[0]))\n",
        "print(x_train[0])\n",
        "print(sequences[0])\n",
        "sequences_matrix=sequence.pad_sequences(sequences,maxlen=max_len)\n",
        "print(sequences_matrix.shape)"
      ],
      "execution_count": 104,
      "outputs": [
        {
          "output_type": "stream",
          "text": [
            "(4736,)\n",
            "2\n",
            "Go until jurong point, crazy.. Available only in bugis n great world la e buffet... Cine there got amore wat...\n",
            "[49, 82]\n",
            "(4736, 150)\n"
          ],
          "name": "stdout"
        }
      ]
    },
    {
      "cell_type": "code",
      "metadata": {
        "id": "IyRoMs1i3LJ1"
      },
      "source": [
        "def RNN():\n",
        "  inputs=Input(name='inputs',shape=[max_len])\n",
        "  layer=Embedding(max_words,50,input_length=max_len)(inputs)\n",
        "  layer=LSTM(64)(layer)\n",
        "  layer=Dense(256,name='FC1')(layer)\n",
        "  layer=Activation('relu')(layer)\n",
        "  layer=Dropout(0.5)(layer)\n",
        "  layer=Dense(1,name='out_layer')(layer)\n",
        "  layer=Activation('sigmoid')(layer)\n",
        "  model=Model(inputs=inputs,outputs=layer)\n",
        "  return model\n",
        "model=RNN()"
      ],
      "execution_count": 106,
      "outputs": []
    },
    {
      "cell_type": "code",
      "metadata": {
        "colab": {
          "base_uri": "https://localhost:8080/"
        },
        "id": "G5LIlnW_3LRu",
        "outputId": "cfcd9395-3bb9-4515-e3ba-92b7c9045e33"
      },
      "source": [
        "model.summary()"
      ],
      "execution_count": 107,
      "outputs": [
        {
          "output_type": "stream",
          "text": [
            "Model: \"model_1\"\n",
            "_________________________________________________________________\n",
            "Layer (type)                 Output Shape              Param #   \n",
            "=================================================================\n",
            "inputs (InputLayer)          [(None, 150)]             0         \n",
            "_________________________________________________________________\n",
            "embedding_1 (Embedding)      (None, 150, 50)           10000     \n",
            "_________________________________________________________________\n",
            "lstm_1 (LSTM)                (None, 64)                29440     \n",
            "_________________________________________________________________\n",
            "FC1 (Dense)                  (None, 256)               16640     \n",
            "_________________________________________________________________\n",
            "activation_2 (Activation)    (None, 256)               0         \n",
            "_________________________________________________________________\n",
            "dropout_1 (Dropout)          (None, 256)               0         \n",
            "_________________________________________________________________\n",
            "out_layer (Dense)            (None, 1)                 257       \n",
            "_________________________________________________________________\n",
            "activation_3 (Activation)    (None, 1)                 0         \n",
            "=================================================================\n",
            "Total params: 56,337\n",
            "Trainable params: 56,337\n",
            "Non-trainable params: 0\n",
            "_________________________________________________________________\n"
          ],
          "name": "stdout"
        }
      ]
    },
    {
      "cell_type": "code",
      "metadata": {
        "id": "8sVOuzCF3LVH"
      },
      "source": [
        "model.compile(loss='binary_crossentropy',optimizer=RMSprop(),metrics=['accuracy'])"
      ],
      "execution_count": 108,
      "outputs": []
    },
    {
      "cell_type": "code",
      "metadata": {
        "colab": {
          "base_uri": "https://localhost:8080/"
        },
        "id": "IDjiuu-F3LYf",
        "scrolled": true,
        "outputId": "abf1fd5c-8737-4b05-924a-57ad960fe884"
      },
      "source": [
        "history=model.fit(sequences_matrix,y_train,batch_size=128,epochs=20,validation_split=0.2,callbacks=[EarlyStopping(monitor='val_loss',min_delta=0.000000001)])"
      ],
      "execution_count": 109,
      "outputs": [
        {
          "output_type": "stream",
          "text": [
            "Epoch 1/20\n",
            "30/30 [==============================] - 2s 29ms/step - loss: 0.4604 - accuracy: 0.8333 - val_loss: 0.1859 - val_accuracy: 0.9325\n",
            "Epoch 2/20\n",
            "30/30 [==============================] - 0s 13ms/step - loss: 0.1512 - accuracy: 0.9581 - val_loss: 0.0901 - val_accuracy: 0.9705\n",
            "Epoch 3/20\n",
            "30/30 [==============================] - 0s 13ms/step - loss: 0.0914 - accuracy: 0.9740 - val_loss: 0.0852 - val_accuracy: 0.9747\n",
            "Epoch 4/20\n",
            "30/30 [==============================] - 0s 13ms/step - loss: 0.0838 - accuracy: 0.9734 - val_loss: 0.0866 - val_accuracy: 0.9757\n"
          ],
          "name": "stdout"
        }
      ]
    },
    {
      "cell_type": "code",
      "metadata": {
        "id": "wJD2CtCG-7nO"
      },
      "source": [
        "# history=model.fit(sequences_matrix,y_train,batch_size=128,epochs=20,validation_split=0.2)"
      ],
      "execution_count": 110,
      "outputs": []
    },
    {
      "cell_type": "code",
      "metadata": {
        "id": "XJqWgUu58NmE"
      },
      "source": [
        "test_sequences=tokenize.texts_to_sequences(x_test)\n",
        "test_matrix=sequence.pad_sequences(test_sequences,maxlen=max_len)"
      ],
      "execution_count": 111,
      "outputs": []
    },
    {
      "cell_type": "code",
      "metadata": {
        "colab": {
          "base_uri": "https://localhost:8080/"
        },
        "id": "lX-Q9wu-8Nq2",
        "scrolled": true,
        "outputId": "48f05c42-b0bb-4a06-e2c1-700316695ed7"
      },
      "source": [
        "accuracy=model.evaluate(test_matrix,y_test)"
      ],
      "execution_count": 112,
      "outputs": [
        {
          "output_type": "stream",
          "text": [
            "27/27 [==============================] - 0s 5ms/step - loss: 0.0594 - accuracy: 0.9844\n"
          ],
          "name": "stdout"
        }
      ]
    },
    {
      "cell_type": "code",
      "metadata": {
        "colab": {
          "base_uri": "https://localhost:8080/",
          "height": 265
        },
        "id": "Yv8UtJkk9hh8",
        "outputId": "bad3f743-844f-4f32-b23c-96300082fc6b"
      },
      "source": [
        "x_range=np.arange(len(history.history['loss']))\n",
        "plt.plot(x_range,history.history['loss'],color='red',label='loss')\n",
        "plt.plot(x_range,history.history['val_loss'],color='blue',label='val_loss')\n",
        "plt.legend()\n",
        "plt.show()"
      ],
      "execution_count": 113,
      "outputs": [
        {
          "output_type": "display_data",
          "data": {
            "image/png": "[encoded data removed]",
            "text/plain": [
              "<Figure size 432x288 with 1 Axes>"
            ]
          },
          "metadata": {
            "tags": [],
            "needs_background": "light"
          }
        }
      ]
    },
    {
      "cell_type": "code",
      "metadata": {
        "colab": {
          "base_uri": "https://localhost:8080/",
          "height": 267
        },
        "id": "8dDBzvrv-GAV",
        "outputId": "7911f71d-5da5-4540-ef9f-9196c1c62532"
      },
      "source": [
        "x_range=np.arange(len(history.history['loss']))\n",
        "plt.plot(x_range,history.history['accuracy'],color='red',label='accuracy')\n",
        "plt.plot(x_range,history.history['val_accuracy'],color='blue',label='val_accuracy')\n",
        "plt.legend()\n",
        "plt.show()"
      ],
      "execution_count": 114,
      "outputs": [
        {
          "output_type": "display_data",
          "data": {
            "image/png": "[encoded data removed]",
            "text/plain": [
              "<Figure size 432x288 with 1 Axes>"
            ]
          },
          "metadata": {
            "tags": [],
            "needs_background": "light"
          }
        }
      ]
    },
    {
      "cell_type": "code",
      "metadata": {
        "id": "cHC_Z4wY-1cw"
      },
      "source": [
        "test=[\"i am busy\",\"Our company has been released a new product which has impressive function to improve the older health. So if you need for more details, don't hesitate to ask for the question\"]"
      ],
      "execution_count": 115,
      "outputs": []
    },
    {
      "cell_type": "code",
      "metadata": {
        "id": "kxrPvrdvAu-R"
      },
      "source": [
        "test=np.array(test).reshape(len(test),)"
      ],
      "execution_count": 116,
      "outputs": []
    },
    {
      "cell_type": "code",
      "metadata": {
        "id": "3icl35h0Blo0"
      },
      "source": [
        "test_real_sequences=tokenize.texts_to_sequences(test)\n",
        "test_real_matrix=sequence.pad_sequences(test_real_sequences,maxlen=max_len)"
      ],
      "execution_count": 117,
      "outputs": []
    },
    {
      "cell_type": "code",
      "metadata": {
        "colab": {
          "base_uri": "https://localhost:8080/"
        },
        "id": "xaW9EygNYJbZ",
        "outputId": "a94ee12c-0c7a-4367-d2f1-e07e85333965"
      },
      "source": [
        "prediction=model.predict(test_real_matrix)\n",
        "print(prediction)"
      ],
      "execution_count": 118,
      "outputs": [
        {
          "output_type": "stream",
          "text": [
            "[[0.00080011]\n",
            " [0.01191409]]\n"
          ],
          "name": "stdout"
        }
      ]
    },
    {
      "cell_type": "markdown",
      "metadata": {
        "id": "rQorS_0IC_GC"
      },
      "source": [
        "- 0: not spam\n",
        "- 1: spam"
      ]
    },
    {
      "cell_type": "code",
      "metadata": {
        "colab": {
          "base_uri": "https://localhost:8080/"
        },
        "id": "y-S_eJK_BqwT",
        "outputId": "2b464d61-f773-4c6b-ffda-b3826e429182"
      },
      "source": [
        "\n",
        "for index,messange in enumerate(test):\n",
        "    if prediction[index]<0.5:\n",
        "        result='Not spam'\n",
        "    else:\n",
        "        result='Spam'\n",
        "    print(\"{}: {}   :{}\".format(index+1,messange,result))"
      ],
      "execution_count": 119,
      "outputs": [
        {
          "output_type": "stream",
          "text": [
            "1: i am busy   :Not spam\n",
            "2: Our company has been released a new product which has impressive function to improve the older health. So if you need for more details, don't hesitate to ask for the question   :Not spam\n"
          ],
          "name": "stdout"
        }
      ]
    },
    {
      "cell_type": "code",
      "metadata": {
        "id": "oy7-Ae6wB_ns"
      },
      "source": [
        ""
      ],
      "execution_count": 119,
      "outputs": []
    }
  ]
}