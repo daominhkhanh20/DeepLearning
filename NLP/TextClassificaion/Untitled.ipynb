{
 "cells": [
  {
   "cell_type": "code",
   "execution_count": 1,
   "metadata": {},
   "outputs": [],
   "source": [
    "from keras.datasets import reuters\n",
    "import numpy as np\n",
    "from matplotlib import pyplot as plt\n",
    "from keras.layers import Dense,Activation\n",
    "from keras.models import Sequential\n",
    "import keras"
   ]
  },
  {
   "cell_type": "code",
   "execution_count": 2,
   "metadata": {},
   "outputs": [
    {
     "name": "stderr",
     "output_type": "stream",
     "text": [
      "/home/daominhkhanh/anaconda3/lib/python3.7/site-packages/tensorflow/python/keras/datasets/reuters.py:148: VisibleDeprecationWarning: Creating an ndarray from ragged nested sequences (which is a list-or-tuple of lists-or-tuples-or ndarrays with different lengths or shapes) is deprecated. If you meant to do this, you must specify 'dtype=object' when creating the ndarray\n",
      "  x_train, y_train = np.array(xs[:idx]), np.array(labels[:idx])\n",
      "/home/daominhkhanh/anaconda3/lib/python3.7/site-packages/tensorflow/python/keras/datasets/reuters.py:149: VisibleDeprecationWarning: Creating an ndarray from ragged nested sequences (which is a list-or-tuple of lists-or-tuples-or ndarrays with different lengths or shapes) is deprecated. If you meant to do this, you must specify 'dtype=object' when creating the ndarray\n",
      "  x_test, y_test = np.array(xs[idx:]), np.array(labels[idx:])\n"
     ]
    }
   ],
   "source": [
    "(x_train,y_train),(x_test,y_test)=reuters.load_data(num_words=None,test_split=0.2)\n",
    "word_index=reuters.get_word_index()"
   ]
  },
  {
   "cell_type": "code",
   "execution_count": 3,
   "metadata": {},
   "outputs": [
    {
     "name": "stdout",
     "output_type": "stream",
     "text": [
      "Number of training samples: 8982\n",
      "Number of test samples: 2246\n",
      "Total classes: 46\n"
     ]
    }
   ],
   "source": [
    "print(\"Number of training samples: {}\".format(len(x_train)))\n",
    "print(\"Number of test samples: {}\".format(len(x_test)))\n",
    "num_classes=max(y_train)+1\n",
    "print(\"Total classes: {}\".format(num_classes))"
   ]
  },
  {
   "cell_type": "code",
   "execution_count": 4,
   "metadata": {},
   "outputs": [],
   "source": [
    "import pandas as pd\n",
    "info={'copper': 6, 'livestock': 28, 'gold': 25, 'money-fx': 19, 'ipi': 30, 'trade': 11, 'cocoa': 0, 'iron-steel': 31, 'reserves': 12, 'tin': 26, 'zinc': 37, 'jobs': 34, 'ship': 13, 'cotton': 14, 'alum': 23, 'strategic-metal': 27, 'lead': 45, 'housing': 7, 'meal-feed': 22, 'gnp': 21, 'sugar': 10, 'rubber': 32, 'dlr': 40, 'veg-oil': 2, 'interest': 20, 'crude': 16, 'coffee': 9, 'wheat': 5, 'carcass': 15, 'lei': 35, 'gas': 41, 'nat-gas': 17, 'oilseed': 24, 'orange': 38, 'heat': 33, 'wpi': 43, 'silver': 42, 'cpi': 18, 'earn': 3, 'bop': 36, 'money-supply': 8, 'hog': 44, 'acq': 4, 'pet-chem': 39, 'grain': 1, 'retail': 29}\n",
    "data={'Topics':list(info.keys()),'Map to int':list(info.values())}\n",
    "df=pd.DataFrame(data)"
   ]
  },
  {
   "cell_type": "code",
   "execution_count": 5,
   "metadata": {},
   "outputs": [
    {
     "data": {
      "text/html": [
       "<div>\n",
       "<style scoped>\n",
       "    .dataframe tbody tr th:only-of-type {\n",
       "        vertical-align: middle;\n",
       "    }\n",
       "\n",
       "    .dataframe tbody tr th {\n",
       "        vertical-align: top;\n",
       "    }\n",
       "\n",
       "    .dataframe thead th {\n",
       "        text-align: right;\n",
       "    }\n",
       "</style>\n",
       "<table border=\"1\" class=\"dataframe\">\n",
       "  <thead>\n",
       "    <tr style=\"text-align: right;\">\n",
       "      <th></th>\n",
       "      <th>Topics</th>\n",
       "      <th>Map to int</th>\n",
       "    </tr>\n",
       "  </thead>\n",
       "  <tbody>\n",
       "    <tr>\n",
       "      <th>37</th>\n",
       "      <td>cpi</td>\n",
       "      <td>18</td>\n",
       "    </tr>\n",
       "    <tr>\n",
       "      <th>38</th>\n",
       "      <td>earn</td>\n",
       "      <td>3</td>\n",
       "    </tr>\n",
       "    <tr>\n",
       "      <th>39</th>\n",
       "      <td>bop</td>\n",
       "      <td>36</td>\n",
       "    </tr>\n",
       "    <tr>\n",
       "      <th>40</th>\n",
       "      <td>money-supply</td>\n",
       "      <td>8</td>\n",
       "    </tr>\n",
       "    <tr>\n",
       "      <th>41</th>\n",
       "      <td>hog</td>\n",
       "      <td>44</td>\n",
       "    </tr>\n",
       "    <tr>\n",
       "      <th>42</th>\n",
       "      <td>acq</td>\n",
       "      <td>4</td>\n",
       "    </tr>\n",
       "    <tr>\n",
       "      <th>43</th>\n",
       "      <td>pet-chem</td>\n",
       "      <td>39</td>\n",
       "    </tr>\n",
       "    <tr>\n",
       "      <th>44</th>\n",
       "      <td>grain</td>\n",
       "      <td>1</td>\n",
       "    </tr>\n",
       "    <tr>\n",
       "      <th>45</th>\n",
       "      <td>retail</td>\n",
       "      <td>29</td>\n",
       "    </tr>\n",
       "  </tbody>\n",
       "</table>\n",
       "</div>"
      ],
      "text/plain": [
       "          Topics  Map to int\n",
       "37           cpi          18\n",
       "38          earn           3\n",
       "39           bop          36\n",
       "40  money-supply           8\n",
       "41           hog          44\n",
       "42           acq           4\n",
       "43      pet-chem          39\n",
       "44         grain           1\n",
       "45        retail          29"
      ]
     },
     "execution_count": 5,
     "metadata": {},
     "output_type": "execute_result"
    }
   ],
   "source": [
    "df.tail(9)"
   ]
  },
  {
   "cell_type": "code",
   "execution_count": 6,
   "metadata": {},
   "outputs": [],
   "source": [
    "index_to_word={}\n",
    "for key,value in word_index.items():\n",
    "    index_to_word[value]=key"
   ]
  },
  {
   "cell_type": "code",
   "execution_count": 7,
   "metadata": {},
   "outputs": [
    {
     "name": "stdout",
     "output_type": "stream",
     "text": [
      "the wattie nondiscriminatory mln loss for plc said at only ended said commonwealth could 1 traders now april 0 a after said from 1985 and from foreign 000 april 0 prices its account year a but in this mln home an states earlier and rise and revs vs 000 its 16 vs 000 a but 3 psbr oils several and shareholders and dividend vs 000 its all 4 vs 000 1 mln agreed largely april 0 are 2 states will billion total and against 000 pct dlrs\n",
      "\n",
      "\n",
      "Topics: earn\n"
     ]
    }
   ],
   "source": [
    "print(' '.join([index_to_word[x] for x in x_train[0]])+'\\n\\n')\n",
    "print(\"Topics: {}\".format(np.array(df.loc[df['Map to int']==y_train[0]])[0][0]))"
   ]
  },
  {
   "cell_type": "code",
   "execution_count": 8,
   "metadata": {},
   "outputs": [],
   "source": [
    "from keras.preprocessing.text import Tokenizer\n",
    "max_words=1000\n",
    "tokenizer=Tokenizer(num_words=max_words)\n",
    "x_train=tokenizer.sequences_to_matrix(x_train,mode='binary')\n",
    "x_test=tokenizer.sequences_to_matrix(x_test,mode='binary')\n",
    "y_train=keras.utils.to_categorical(y_train,num_classes)\n",
    "y_test=keras.utils.to_categorical(y_test,num_classes)"
   ]
  },
  {
   "cell_type": "code",
   "execution_count": 9,
   "metadata": {},
   "outputs": [
    {
     "name": "stdout",
     "output_type": "stream",
     "text": [
      "52\n"
     ]
    }
   ],
   "source": [
    "print(len(np.where(x_train[0]!=0)[0]))"
   ]
  },
  {
   "cell_type": "code",
   "execution_count": 10,
   "metadata": {},
   "outputs": [],
   "source": [
    "from keras.layers import Dropout"
   ]
  },
  {
   "cell_type": "code",
   "execution_count": 11,
   "metadata": {},
   "outputs": [],
   "source": [
    "model=Sequential()\n",
    "model.add(Dense(512,input_shape=(max_words,)))\n",
    "model.add(Activation('relu'))\n",
    "model.add(Dropout(0.5))\n",
    "model.add(Dense(num_classes))\n",
    "model.add(Activation('softmax'))\n",
    "\n",
    "model.compile(loss='categorical_crossentropy',optimizer='adam',metrics=['accuracy'])"
   ]
  },
  {
   "cell_type": "code",
   "execution_count": 12,
   "metadata": {},
   "outputs": [
    {
     "name": "stdout",
     "output_type": "stream",
     "text": [
      "Model: \"sequential\"\n",
      "_________________________________________________________________\n",
      "Layer (type)                 Output Shape              Param #   \n",
      "=================================================================\n",
      "dense (Dense)                (None, 512)               512512    \n",
      "_________________________________________________________________\n",
      "activation (Activation)      (None, 512)               0         \n",
      "_________________________________________________________________\n",
      "dropout (Dropout)            (None, 512)               0         \n",
      "_________________________________________________________________\n",
      "dense_1 (Dense)              (None, 46)                23598     \n",
      "_________________________________________________________________\n",
      "activation_1 (Activation)    (None, 46)                0         \n",
      "=================================================================\n",
      "Total params: 536,110\n",
      "Trainable params: 536,110\n",
      "Non-trainable params: 0\n",
      "_________________________________________________________________\n"
     ]
    }
   ],
   "source": [
    "model.summary()"
   ]
  },
  {
   "cell_type": "code",
   "execution_count": 13,
   "metadata": {
    "scrolled": true
   },
   "outputs": [
    {
     "name": "stdout",
     "output_type": "stream",
     "text": [
      "Epoch 1/20\n",
      "57/57 [==============================] - 1s 13ms/step - loss: 2.3920 - accuracy: 0.4894 - val_loss: 1.2405 - val_accuracy: 0.7340\n",
      "Epoch 2/20\n",
      "57/57 [==============================] - 0s 8ms/step - loss: 1.1088 - accuracy: 0.7498 - val_loss: 1.0122 - val_accuracy: 0.7807\n",
      "Epoch 3/20\n",
      "57/57 [==============================] - 0s 8ms/step - loss: 0.8187 - accuracy: 0.8141 - val_loss: 0.9142 - val_accuracy: 0.7947\n",
      "Epoch 4/20\n",
      "57/57 [==============================] - 0s 7ms/step - loss: 0.6127 - accuracy: 0.8601 - val_loss: 0.8591 - val_accuracy: 0.8030\n",
      "Epoch 5/20\n",
      "57/57 [==============================] - 0s 9ms/step - loss: 0.4976 - accuracy: 0.8861 - val_loss: 0.8321 - val_accuracy: 0.8019\n",
      "Epoch 6/20\n",
      "57/57 [==============================] - 0s 7ms/step - loss: 0.4204 - accuracy: 0.8997 - val_loss: 0.8172 - val_accuracy: 0.8102\n",
      "Epoch 7/20\n",
      "57/57 [==============================] - 0s 8ms/step - loss: 0.3594 - accuracy: 0.9213 - val_loss: 0.8290 - val_accuracy: 0.8119\n",
      "Epoch 8/20\n",
      "57/57 [==============================] - 0s 7ms/step - loss: 0.3243 - accuracy: 0.9218 - val_loss: 0.8183 - val_accuracy: 0.8152\n",
      "Epoch 9/20\n",
      "57/57 [==============================] - 0s 8ms/step - loss: 0.2729 - accuracy: 0.9369 - val_loss: 0.8358 - val_accuracy: 0.8141\n",
      "Epoch 10/20\n",
      "57/57 [==============================] - 0s 8ms/step - loss: 0.2453 - accuracy: 0.9398 - val_loss: 0.8496 - val_accuracy: 0.8147\n",
      "Epoch 11/20\n",
      "57/57 [==============================] - 0s 8ms/step - loss: 0.2100 - accuracy: 0.9483 - val_loss: 0.8629 - val_accuracy: 0.8147\n",
      "Epoch 12/20\n",
      "57/57 [==============================] - 1s 10ms/step - loss: 0.1751 - accuracy: 0.9586 - val_loss: 0.8739 - val_accuracy: 0.8152\n",
      "Epoch 13/20\n",
      "57/57 [==============================] - 0s 7ms/step - loss: 0.1632 - accuracy: 0.9581 - val_loss: 0.8987 - val_accuracy: 0.8097\n",
      "Epoch 14/20\n",
      "57/57 [==============================] - 0s 7ms/step - loss: 0.1475 - accuracy: 0.9593 - val_loss: 0.9004 - val_accuracy: 0.8075\n",
      "Epoch 15/20\n",
      "57/57 [==============================] - 0s 7ms/step - loss: 0.1467 - accuracy: 0.9598 - val_loss: 0.9284 - val_accuracy: 0.8069\n",
      "Epoch 16/20\n",
      "57/57 [==============================] - 0s 7ms/step - loss: 0.1345 - accuracy: 0.9608 - val_loss: 0.9257 - val_accuracy: 0.8041\n",
      "Epoch 17/20\n",
      "57/57 [==============================] - 1s 9ms/step - loss: 0.1353 - accuracy: 0.9603 - val_loss: 0.9693 - val_accuracy: 0.8008\n",
      "Epoch 18/20\n",
      "57/57 [==============================] - 0s 7ms/step - loss: 0.1311 - accuracy: 0.9609 - val_loss: 0.9615 - val_accuracy: 0.8058\n",
      "Epoch 19/20\n",
      "57/57 [==============================] - 0s 8ms/step - loss: 0.1151 - accuracy: 0.9661 - val_loss: 0.9759 - val_accuracy: 0.8024\n",
      "Epoch 20/20\n",
      "57/57 [==============================] - 0s 8ms/step - loss: 0.1127 - accuracy: 0.9653 - val_loss: 1.0055 - val_accuracy: 0.7947\n"
     ]
    }
   ],
   "source": [
    "epochs=20\n",
    "batch_size=128\n",
    "history=model.fit(x_train,y_train,batch_size=batch_size,epochs=epochs,verbose=1,validation_split=0.2)"
   ]
  },
  {
   "cell_type": "code",
   "execution_count": 14,
   "metadata": {},
   "outputs": [
    {
     "name": "stdout",
     "output_type": "stream",
     "text": [
      "18/18 [==============================] - 0s 2ms/step - loss: 1.0652 - accuracy: 0.7809\n"
     ]
    }
   ],
   "source": [
    "score=model.evaluate(x_test,y_test,batch_size=batch_size,verbose=1)"
   ]
  },
  {
   "cell_type": "code",
   "execution_count": 16,
   "metadata": {},
   "outputs": [],
   "source": [
    "acc=history.history['accuracy']\n",
    "val_acc=history.history['val_accuracy']"
   ]
  },
  {
   "cell_type": "code",
   "execution_count": 17,
   "metadata": {},
   "outputs": [
    {
     "data": {
      "image/png": "[encoded data removed]",
      "text/plain": [
       "<Figure size 432x288 with 1 Axes>"
      ]
     },
     "metadata": {
      "needs_background": "light"
     },
     "output_type": "display_data"
    }
   ],
   "source": [
    "plt.plot(np.arange(epochs),acc,color='red',label='Train accuracy')\n",
    "plt.plot(np.arange(epochs),val_acc,color='blue',label='Validation accuracy')\n",
    "plt.legend()\n",
    "plt.show()"
   ]
  },
  {
   "cell_type": "code",
   "execution_count": null,
   "metadata": {},
   "outputs": [],
   "source": []
  }
 ],
 "metadata": {
  "kernelspec": {
   "display_name": "Python 3",
   "language": "python",
   "name": "python3"
  },
  "language_info": {
   "codemirror_mode": {
    "name": "ipython",
    "version": 3
   },
   "file_extension": ".py",
   "mimetype": "text/x-python",
   "name": "python",
   "nbconvert_exporter": "python",
   "pygments_lexer": "ipython3",
   "version": "3.7.6"
  }
 },
 "nbformat": 4,
 "nbformat_minor": 4
}
