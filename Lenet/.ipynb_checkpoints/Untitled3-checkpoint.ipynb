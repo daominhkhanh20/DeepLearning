{
 "cells": [
  {
   "cell_type": "markdown",
   "metadata": {},
   "source": [
    "# Lenet-5 \n",
    "Lenet-5 CNN architecture is made up of 7 layers.The layers composition consists of 3 convolution layers, 2 sub-sampling layers and 2 fully connected layers\n",
    "\n",
    "<img src=\"lenet.png\">"
   ]
  },
  {
   "cell_type": "markdown",
   "metadata": {},
   "source": [
    "<img src=\"architecture.png\" height=\"200\" width=\"800\">"
   ]
  },
  {
   "cell_type": "markdown",
   "metadata": {},
   "source": [
    "# We'll use the lenet architecture for MNIST classification"
   ]
  },
  {
   "cell_type": "code",
   "execution_count": 22,
   "metadata": {
    "id": "ndD9uOd3EXkL"
   },
   "outputs": [],
   "source": [
    "import tensorflow as tf\n",
    "from tensorflow import keras \n",
    "import numpy as np\n",
    "from keras.layers import Conv2D,AveragePooling2D,Flatten,Dense\n",
    "from keras.callbacks import EarlyStopping"
   ]
  },
  {
   "cell_type": "code",
   "execution_count": 23,
   "metadata": {
    "id": "KbGOfdb0EaNW"
   },
   "outputs": [],
   "source": [
    "(train_x,train_y),(test_x,test_y)=keras.datasets.mnist.load_data()"
   ]
  },
  {
   "cell_type": "code",
   "execution_count": 24,
   "metadata": {
    "colab": {
     "base_uri": "https://localhost:8080/"
    },
    "id": "82UmyeqDEbwj",
    "outputId": "b46ea4f2-873d-4497-ac27-dc13de2e43b1"
   },
   "outputs": [
    {
     "name": "stdout",
     "output_type": "stream",
     "text": [
      "(60000, 28, 28)\n",
      "(60000,)\n"
     ]
    }
   ],
   "source": [
    "print(train_x.shape)\n",
    "print(train_y.shape)"
   ]
  },
  {
   "cell_type": "code",
   "execution_count": 25,
   "metadata": {
    "id": "ksJtF8qeEdAb"
   },
   "outputs": [],
   "source": [
    "train_x=tf.expand_dims(train_x,3)\n",
    "test_x=tf.expand_dims(test_x,3)\n",
    "val_x = train_x[:5000]\n",
    "val_y = train_y[:5000]"
   ]
  },
  {
   "cell_type": "code",
   "execution_count": 26,
   "metadata": {
    "id": "epZOyvR5EdXh"
   },
   "outputs": [],
   "source": [
    "lenet_model=keras.models.Sequential()\n",
    "lenet_model.add(Conv2D(filters=6,kernel_size=5,strides=1,activation='tanh',input_shape=train_x[0].shape,padding='same'))\n",
    "lenet_model.add(AveragePooling2D())\n",
    "lenet_model.add(Conv2D(16, kernel_size=5, strides=1, activation='tanh', padding='valid'))\n",
    "lenet_model.add(AveragePooling2D())\n",
    "lenet_model.add(Flatten())\n",
    "lenet_model.add(Dense(120,activation='tanh'))\n",
    "lenet_model.add(Dense(84,activation='tanh'))\n",
    "lenet_model.add(Dense(10,activation='softmax'))"
   ]
  },
  {
   "cell_type": "code",
   "execution_count": 27,
   "metadata": {
    "id": "wz4psbDWEiZZ"
   },
   "outputs": [],
   "source": [
    "lenet_model.compile(optimizer='adam',loss=keras.losses.sparse_categorical_crossentropy,metrics=['accuracy'])"
   ]
  },
  {
   "cell_type": "code",
   "execution_count": 28,
   "metadata": {
    "colab": {
     "base_uri": "https://localhost:8080/"
    },
    "id": "AkyjlsumKDCS",
    "outputId": "d26105be-4ca8-4274-c626-8b0f0d141bc8"
   },
   "outputs": [
    {
     "name": "stdout",
     "output_type": "stream",
     "text": [
      "Epoch 1/100\n",
      "1875/1875 [==============================] - 5s 2ms/step - loss: 0.3055 - accuracy: 0.9073 - val_loss: 0.0701 - val_accuracy: 0.9814\n",
      "Epoch 2/100\n",
      "1875/1875 [==============================] - 4s 2ms/step - loss: 0.0683 - accuracy: 0.9791 - val_loss: 0.0534 - val_accuracy: 0.9828\n",
      "Epoch 3/100\n",
      "1875/1875 [==============================] - 4s 2ms/step - loss: 0.0495 - accuracy: 0.9848 - val_loss: 0.0338 - val_accuracy: 0.9908\n",
      "Epoch 4/100\n",
      "1875/1875 [==============================] - 4s 2ms/step - loss: 0.0374 - accuracy: 0.9877 - val_loss: 0.0344 - val_accuracy: 0.9902\n"
     ]
    }
   ],
   "source": [
    "history=lenet_model.fit(train_x,train_y,epochs=100,validation_data=(val_x,val_y),callbacks=[EarlyStopping(monitor='val_loss',min_delta=0.000001)])"
   ]
  },
  {
   "cell_type": "code",
   "execution_count": 32,
   "metadata": {
    "colab": {
     "base_uri": "https://localhost:8080/",
     "height": 265
    },
    "id": "mmexCkA6KwDh",
    "outputId": "2bc192f7-f06d-4d0d-97f9-defcdbb9c8bc"
   },
   "outputs": [
    {
     "data": {
      "image/png": "[encoded data removed]",
      "text/plain": [
       "<Figure size 432x288 with 1 Axes>"
      ]
     },
     "metadata": {
      "needs_background": "light",
      "tags": []
     },
     "output_type": "display_data"
    }
   ],
   "source": [
    "from matplotlib import pyplot as plt\n",
    "number_epochs=np.arange(len(history.history['val_loss']))\n",
    "plt.plot(number_epochs,history.history['accuracy'],label='Train accuracy')\n",
    "plt.plot(number_epochs,history.history['val_accuracy'],label='Validation accuracy')\n",
    "plt.legend()\n",
    "plt.show()"
   ]
  },
  {
   "cell_type": "code",
   "execution_count": null,
   "metadata": {
    "id": "_fecYjlnLhZP"
   },
   "outputs": [],
   "source": []
  }
 ],
 "metadata": {
  "accelerator": "GPU",
  "colab": {
   "name": "Untitled3.ipynb",
   "provenance": []
  },
  "kernelspec": {
   "display_name": "Python 3",
   "language": "python",
   "name": "python3"
  },
  "language_info": {
   "codemirror_mode": {
    "name": "ipython",
    "version": 3
   },
   "file_extension": ".py",
   "mimetype": "text/x-python",
   "name": "python",
   "nbconvert_exporter": "python",
   "pygments_lexer": "ipython3",
   "version": "3.7.6"
  }
 },
 "nbformat": 4,
 "nbformat_minor": 1
}
