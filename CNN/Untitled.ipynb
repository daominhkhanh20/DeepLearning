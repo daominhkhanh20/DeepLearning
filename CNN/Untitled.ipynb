{
 "cells": [
  {
   "cell_type": "markdown",
   "metadata": {},
   "source": [
    "# Understanding CNN"
   ]
  },
  {
   "cell_type": "markdown",
   "metadata": {},
   "source": [
    "There characteristics of affine invariance are introduced due to three main properties of the CNN architecture\n",
    "- Local Respective Fields\n",
    "- Shared weights\n",
    "- Spatial Sub-sampling"
   ]
  },
  {
   "cell_type": "markdown",
   "metadata": {},
   "source": [
    "# Local Respective Fields"
   ]
  },
  {
   "cell_type": "markdown",
   "metadata": {},
   "source": [
    "**Ever wondered why aren't all the neural in a CNN connected?**\n",
    " - Well, It's rather impractical to connect all the unit from previous layer to units with the current layer. The computation resource will be vast due to the increase in connections. Also, such a network will require a more expensive set of training data to utilize the full capacity of the network\n",
    " \n",
    "- But more importantly, each neuron within in a CNN is responsible for a defined region of the input data, and this enables neurons to learn patterns such that a line,edges and small details that make up the image\n",
    "\n",
    "- This defined region of space that a neuron or unit is exposed to int the input data is called **Local Respective Filed**\n",
    " "
   ]
  },
  {
   "cell_type": "markdown",
   "metadata": {},
   "source": [
    "# Spatial sub-sampling\n",
    "- Sub-sampling is a technique that has been devised to reduce the reliance of the precise positioning within feature maps that are produced by convolutional layers within a CNN\n",
    "- "
   ]
  },
  {
   "cell_type": "code",
   "execution_count": null,
   "metadata": {},
   "outputs": [],
   "source": []
  }
 ],
 "metadata": {
  "kernelspec": {
   "display_name": "Python 3",
   "language": "python",
   "name": "python3"
  },
  "language_info": {
   "codemirror_mode": {
    "name": "ipython",
    "version": 3
   },
   "file_extension": ".py",
   "mimetype": "text/x-python",
   "name": "python",
   "nbconvert_exporter": "python",
   "pygments_lexer": "ipython3",
   "version": "3.7.6"
  }
 },
 "nbformat": 4,
 "nbformat_minor": 4
}
